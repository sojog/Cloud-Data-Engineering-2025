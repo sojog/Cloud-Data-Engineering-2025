{
 "cells": [
  {
   "cell_type": "code",
   "execution_count": 1,
   "id": "3eb236ea",
   "metadata": {},
   "outputs": [],
   "source": [
    "from selenium import webdriver\n",
    "from selenium.webdriver.common.by import By\n",
    "import time\n",
    "from datetime import datetime\n",
    "\n",
    "\n",
    "browser = webdriver.Chrome()\n",
    "browser.get(\"https://icanhazdadjoke.com/\")"
   ]
  },
  {
   "cell_type": "code",
   "execution_count": 2,
   "id": "112261a9",
   "metadata": {},
   "outputs": [
    {
     "data": {
      "text/plain": [
       "6"
      ]
     },
     "execution_count": 2,
     "metadata": {},
     "output_type": "execute_result"
    }
   ],
   "source": [
    "len(browser.find_elements(By.CLASS_NAME, \"fc-button-label\"))"
   ]
  },
  {
   "cell_type": "code",
   "execution_count": 3,
   "id": "403c4876",
   "metadata": {},
   "outputs": [
    {
     "data": {
      "text/plain": [
       "6"
      ]
     },
     "execution_count": 3,
     "metadata": {},
     "output_type": "execute_result"
    }
   ],
   "source": [
    "len(browser.find_elements(By.CSS_SELECTOR, \"p.fc-button-label\"))"
   ]
  },
  {
   "cell_type": "code",
   "execution_count": 7,
   "id": "a4144c93",
   "metadata": {},
   "outputs": [],
   "source": [
    "browser.find_element(By.XPATH, \"/html/body/div/div[2]/div[2]/div[2]/div[2]/button[1]/p\").click()"
   ]
  },
  {
   "cell_type": "code",
   "execution_count": 8,
   "id": "62232174",
   "metadata": {},
   "outputs": [
    {
     "data": {
      "text/plain": [
       "2"
      ]
     },
     "execution_count": 8,
     "metadata": {},
     "output_type": "execute_result"
    }
   ],
   "source": [
    "len(browser.find_elements(By.CLASS_NAME, \"subtitle\"))"
   ]
  },
  {
   "cell_type": "code",
   "execution_count": 17,
   "id": "1f0f5358",
   "metadata": {},
   "outputs": [],
   "source": [
    "XPATH = \"/html/body/section/div/div[2]/div/div/p\"\n",
    "\n",
    "for i in range(3):\n",
    "    joke_text = browser.find_element(By.XPATH, XPATH).text\n",
    "    with open(\"jokes.text\", \"a\") as fwriter:\n",
    "        fwriter.write(\"\\n\")\n",
    "        fwriter.write(joke_text)\n",
    "\n",
    "    browser.find_element(By.CSS_SELECTOR, \".button.is-primary.level-item\").click()\n"
   ]
  },
  {
   "cell_type": "code",
   "execution_count": null,
   "id": "b8450655",
   "metadata": {},
   "outputs": [],
   "source": []
  },
  {
   "cell_type": "code",
   "execution_count": null,
   "id": "b708e773",
   "metadata": {},
   "outputs": [],
   "source": []
  }
 ],
 "metadata": {
  "kernelspec": {
   "display_name": "Python 3",
   "language": "python",
   "name": "python3"
  },
  "language_info": {
   "codemirror_mode": {
    "name": "ipython",
    "version": 3
   },
   "file_extension": ".py",
   "mimetype": "text/x-python",
   "name": "python",
   "nbconvert_exporter": "python",
   "pygments_lexer": "ipython3",
   "version": "3.13.3"
  }
 },
 "nbformat": 4,
 "nbformat_minor": 5
}
