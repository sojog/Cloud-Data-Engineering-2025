{
 "cells": [
  {
   "cell_type": "code",
   "execution_count": 1,
   "id": "04fc291c",
   "metadata": {},
   "outputs": [],
   "source": [
    "from selenium import webdriver\n",
    "from selenium.webdriver.common.by import By"
   ]
  },
  {
   "cell_type": "code",
   "execution_count": 2,
   "id": "3812b3fa",
   "metadata": {},
   "outputs": [],
   "source": [
    "\n",
    "browser = webdriver.Chrome()\n",
    "browser.get(\"https://www.bereciucas.ro/\")\n",
    "\n"
   ]
  },
  {
   "cell_type": "code",
   "execution_count": 4,
   "id": "30be3422",
   "metadata": {},
   "outputs": [],
   "source": [
    "browser.find_element(By.ID, \"CybotCookiebotDialogBodyLevelButtonLevelOptinAllowAll\").click()"
   ]
  },
  {
   "cell_type": "code",
   "execution_count": 6,
   "id": "8f036450",
   "metadata": {},
   "outputs": [],
   "source": [
    "browser.find_element(By.XPATH, '//*[@id=\"ageCheckForm\"]/input[1]').send_keys(\"1\")"
   ]
  },
  {
   "cell_type": "code",
   "execution_count": null,
   "id": "03cfd721",
   "metadata": {},
   "outputs": [
    {
     "data": {
      "text/plain": [
       "[<selenium.webdriver.remote.webelement.WebElement (session=\"4af82d33d8321b9a48445d987f2c13de\", element=\"f.9973CDD1F74AFE6B71CF0C06089CCE09.d.F218100B4964C252BAC3C44378F9E3DC.e.7\")>,\n",
       " <selenium.webdriver.remote.webelement.WebElement (session=\"4af82d33d8321b9a48445d987f2c13de\", element=\"f.9973CDD1F74AFE6B71CF0C06089CCE09.d.F218100B4964C252BAC3C44378F9E3DC.e.8\")>,\n",
       " <selenium.webdriver.remote.webelement.WebElement (session=\"4af82d33d8321b9a48445d987f2c13de\", element=\"f.9973CDD1F74AFE6B71CF0C06089CCE09.d.F218100B4964C252BAC3C44378F9E3DC.e.9\")>,\n",
       " <selenium.webdriver.remote.webelement.WebElement (session=\"4af82d33d8321b9a48445d987f2c13de\", element=\"f.9973CDD1F74AFE6B71CF0C06089CCE09.d.F218100B4964C252BAC3C44378F9E3DC.e.10\")>]"
      ]
     },
     "execution_count": 7,
     "metadata": {},
     "output_type": "execute_result"
    }
   ],
   "source": [
    "browser.find_elements(By.CLASS_NAME, \"year-char\")"
   ]
  },
  {
   "cell_type": "code",
   "execution_count": 9,
   "id": "20e98d5a",
   "metadata": {},
   "outputs": [],
   "source": [
    "browser.find_elements(By.CLASS_NAME, \"year-char\")[1].send_keys(\"2\")"
   ]
  },
  {
   "cell_type": "code",
   "execution_count": 11,
   "id": "b35dc991",
   "metadata": {},
   "outputs": [
    {
     "data": {
      "text/plain": [
       "[<selenium.webdriver.remote.webelement.WebElement (session=\"4af82d33d8321b9a48445d987f2c13de\", element=\"f.9973CDD1F74AFE6B71CF0C06089CCE09.d.F218100B4964C252BAC3C44378F9E3DC.e.9\")>]"
      ]
     },
     "execution_count": 11,
     "metadata": {},
     "output_type": "execute_result"
    }
   ],
   "source": [
    "browser.find_elements(By.CLASS_NAME, \"year_3\")"
   ]
  },
  {
   "cell_type": "code",
   "execution_count": 13,
   "id": "60f2df49",
   "metadata": {},
   "outputs": [],
   "source": [
    "browser.find_element(By.NAME, \"year_3\").send_keys(\"9\")"
   ]
  },
  {
   "cell_type": "code",
   "execution_count": 15,
   "id": "a1534803",
   "metadata": {},
   "outputs": [],
   "source": [
    "browser.find_element(By.CSS_SELECTOR, \".year-char.year_4\").send_keys(\"0\")"
   ]
  },
  {
   "cell_type": "code",
   "execution_count": null,
   "id": "bbce461b",
   "metadata": {},
   "outputs": [],
   "source": []
  }
 ],
 "metadata": {
  "kernelspec": {
   "display_name": "Python 3",
   "language": "python",
   "name": "python3"
  },
  "language_info": {
   "codemirror_mode": {
    "name": "ipython",
    "version": 3
   },
   "file_extension": ".py",
   "mimetype": "text/x-python",
   "name": "python",
   "nbconvert_exporter": "python",
   "pygments_lexer": "ipython3",
   "version": "3.13.3"
  }
 },
 "nbformat": 4,
 "nbformat_minor": 5
}
