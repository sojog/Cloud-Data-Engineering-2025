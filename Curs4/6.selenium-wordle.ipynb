{
 "cells": [
  {
   "cell_type": "code",
   "execution_count": 1,
   "id": "cb22b159",
   "metadata": {},
   "outputs": [],
   "source": [
    "from selenium import webdriver\n",
    "from selenium.webdriver.common.by import By\n",
    "import time\n",
    "from datetime import datetime\n",
    "\n",
    "\n",
    "browser = webdriver.Chrome()\n",
    "\n",
    "URL = \"https://wordplay.com/\"\n",
    "\n",
    "browser.get(URL)"
   ]
  },
  {
   "cell_type": "code",
   "execution_count": 2,
   "id": "15b243fc",
   "metadata": {},
   "outputs": [],
   "source": [
    "\n",
    "\n",
    "XPATH_Q = '//*[@id=\"__next\"]/div[1]/div[1]/div/div[2]/div/div/div[1]/button[1]'\n",
    "\n",
    "XPATH_A = '//*[@id=\"__next\"]/div[1]/div[1]/div/div[2]/div/div/div[2]/button[1]'\n",
    "\n",
    "XPATH_S = '//*[@id=\"__next\"]/div[1]/div[1]/div/div[2]/div/div/div[2]/button[2]'"
   ]
  },
  {
   "cell_type": "code",
   "execution_count": 3,
   "id": "fe0211c6",
   "metadata": {},
   "outputs": [],
   "source": [
    "\n",
    "rand = 2\n",
    "linia = 4\n",
    "\n",
    "XPATH_GENERIC = f'//*[@id=\"__next\"]/div[1]/div[1]/div/div[2]/div/div/div[{rand}]/button[{linia}]'\n",
    "\n",
    "browser.find_element(By.XPATH, XPATH_GENERIC).click()\n"
   ]
  },
  {
   "cell_type": "code",
   "execution_count": 4,
   "id": "6369b965",
   "metadata": {},
   "outputs": [],
   "source": [
    "TASTATURA = [\"qwertyuiop\", \"asdfghjkl\", \" zxcvbnm\"]\n",
    "\n",
    "def rand_linie(litera):\n",
    "    \n",
    "    for count, rand in enumerate(TASTATURA):\n",
    "        if litera in rand:\n",
    "            r = count\n",
    "            l = rand.index(litera)\n",
    "            return (r + 1, l + 1)\n",
    "        \n",
    "    \n",
    "\n",
    "def xpath_pt(litera):\n",
    "    rand, linia = rand_linie(litera)\n",
    "    return f'//*[@id=\"__next\"]/div[1]/div[1]/div/div[2]/div/div/div[{rand}]/button[{linia}]'\n",
    "\n",
    "\n",
    "def press_enter():\n",
    "    ENTER = '//*[@id=\"__next\"]/div[1]/div[1]/div/div[2]/div/div/div[3]/button[1]'\n",
    "    browser.find_element(By.XPATH, ENTER).click()\n",
    "\n"
   ]
  },
  {
   "cell_type": "code",
   "execution_count": 5,
   "id": "47a763e7",
   "metadata": {},
   "outputs": [
    {
     "data": {
      "text/plain": [
       "(2, 8)"
      ]
     },
     "execution_count": 5,
     "metadata": {},
     "output_type": "execute_result"
    }
   ],
   "source": [
    "rand_linie(\"k\")"
   ]
  },
  {
   "cell_type": "code",
   "execution_count": 14,
   "id": "462c8765",
   "metadata": {},
   "outputs": [],
   "source": [
    "browser.get(URL)"
   ]
  },
  {
   "cell_type": "code",
   "execution_count": 15,
   "id": "71b71228",
   "metadata": {},
   "outputs": [
    {
     "ename": "NoSuchElementException",
     "evalue": "Message: no such element: Unable to locate element: {\"method\":\"xpath\",\"selector\":\"//*[@id=\"__next\"]/div[1]/div[1]/div/div[2]/div/div/div[2]/button[5]\"}\n  (Session info: chrome=137.0.7151.120); For documentation on this error, please visit: https://www.selenium.dev/documentation/webdriver/troubleshooting/errors#no-such-element-exception\nStacktrace:\n0   chromedriver                        0x0000000102b49d14 cxxbridge1$str$ptr + 2735276\n1   chromedriver                        0x0000000102b41f88 cxxbridge1$str$ptr + 2703136\n2   chromedriver                        0x00000001026926f0 cxxbridge1$string$len + 90424\n3   chromedriver                        0x00000001026d99e0 cxxbridge1$string$len + 381992\n4   chromedriver                        0x000000010271b0c8 cxxbridge1$string$len + 650000\n5   chromedriver                        0x00000001026cdbe8 cxxbridge1$string$len + 333360\n6   chromedriver                        0x0000000102b0d598 cxxbridge1$str$ptr + 2487600\n7   chromedriver                        0x0000000102b10830 cxxbridge1$str$ptr + 2500552\n8   chromedriver                        0x0000000102aedc14 cxxbridge1$str$ptr + 2358188\n9   chromedriver                        0x0000000102b110b8 cxxbridge1$str$ptr + 2502736\n10  chromedriver                        0x0000000102adedec cxxbridge1$str$ptr + 2297220\n11  chromedriver                        0x0000000102b31420 cxxbridge1$str$ptr + 2634680\n12  chromedriver                        0x0000000102b315ac cxxbridge1$str$ptr + 2635076\n13  chromedriver                        0x0000000102b41bd4 cxxbridge1$str$ptr + 2702188\n14  libsystem_pthread.dylib             0x00000001a0a2ffa8 _pthread_start + 148\n15  libsystem_pthread.dylib             0x00000001a0a2ada0 thread_start + 8\n",
     "output_type": "error",
     "traceback": [
      "\u001b[31m---------------------------------------------------------------------------\u001b[39m",
      "\u001b[31mNoSuchElementException\u001b[39m                    Traceback (most recent call last)",
      "\u001b[36mCell\u001b[39m\u001b[36m \u001b[39m\u001b[32mIn[15]\u001b[39m\u001b[32m, line 6\u001b[39m\n\u001b[32m      4\u001b[39m \u001b[38;5;28;01mfor\u001b[39;00m cuv \u001b[38;5;129;01min\u001b[39;00m cuvinte:\n\u001b[32m      5\u001b[39m      \u001b[38;5;28;01mfor\u001b[39;00m ch \u001b[38;5;129;01min\u001b[39;00m cuv:\n\u001b[32m----> \u001b[39m\u001b[32m6\u001b[39m           \u001b[43mbrowser\u001b[49m\u001b[43m.\u001b[49m\u001b[43mfind_element\u001b[49m\u001b[43m(\u001b[49m\u001b[43mBy\u001b[49m\u001b[43m.\u001b[49m\u001b[43mXPATH\u001b[49m\u001b[43m,\u001b[49m\u001b[43m \u001b[49m\u001b[43mxpath_pt\u001b[49m\u001b[43m(\u001b[49m\u001b[43mch\u001b[49m\u001b[43m)\u001b[49m\u001b[43m)\u001b[49m.click()\n\u001b[32m      7\u001b[39m      time.sleep(\u001b[32m2\u001b[39m)\n\u001b[32m      8\u001b[39m      press_enter()\n",
      "\u001b[36mFile \u001b[39m\u001b[32m/Library/Frameworks/Python.framework/Versions/3.13/lib/python3.13/site-packages/selenium/webdriver/remote/webdriver.py:914\u001b[39m, in \u001b[36mWebDriver.find_element\u001b[39m\u001b[34m(self, by, value)\u001b[39m\n\u001b[32m    911\u001b[39m         \u001b[38;5;28;01mraise\u001b[39;00m NoSuchElementException(\u001b[33mf\u001b[39m\u001b[33m\"\u001b[39m\u001b[33mCannot locate relative element with: \u001b[39m\u001b[38;5;132;01m{\u001b[39;00mby.root\u001b[38;5;132;01m}\u001b[39;00m\u001b[33m\"\u001b[39m)\n\u001b[32m    912\u001b[39m     \u001b[38;5;28;01mreturn\u001b[39;00m elements[\u001b[32m0\u001b[39m]\n\u001b[32m--> \u001b[39m\u001b[32m914\u001b[39m \u001b[38;5;28;01mreturn\u001b[39;00m \u001b[38;5;28;43mself\u001b[39;49m\u001b[43m.\u001b[49m\u001b[43mexecute\u001b[49m\u001b[43m(\u001b[49m\u001b[43mCommand\u001b[49m\u001b[43m.\u001b[49m\u001b[43mFIND_ELEMENT\u001b[49m\u001b[43m,\u001b[49m\u001b[43m \u001b[49m\u001b[43m{\u001b[49m\u001b[33;43m\"\u001b[39;49m\u001b[33;43musing\u001b[39;49m\u001b[33;43m\"\u001b[39;49m\u001b[43m:\u001b[49m\u001b[43m \u001b[49m\u001b[43mby\u001b[49m\u001b[43m,\u001b[49m\u001b[43m \u001b[49m\u001b[33;43m\"\u001b[39;49m\u001b[33;43mvalue\u001b[39;49m\u001b[33;43m\"\u001b[39;49m\u001b[43m:\u001b[49m\u001b[43m \u001b[49m\u001b[43mvalue\u001b[49m\u001b[43m}\u001b[49m\u001b[43m)\u001b[49m[\u001b[33m\"\u001b[39m\u001b[33mvalue\u001b[39m\u001b[33m\"\u001b[39m]\n",
      "\u001b[36mFile \u001b[39m\u001b[32m/Library/Frameworks/Python.framework/Versions/3.13/lib/python3.13/site-packages/selenium/webdriver/remote/webdriver.py:447\u001b[39m, in \u001b[36mWebDriver.execute\u001b[39m\u001b[34m(self, driver_command, params)\u001b[39m\n\u001b[32m    445\u001b[39m response = \u001b[38;5;28mself\u001b[39m.command_executor.execute(driver_command, params)\n\u001b[32m    446\u001b[39m \u001b[38;5;28;01mif\u001b[39;00m response:\n\u001b[32m--> \u001b[39m\u001b[32m447\u001b[39m     \u001b[38;5;28;43mself\u001b[39;49m\u001b[43m.\u001b[49m\u001b[43merror_handler\u001b[49m\u001b[43m.\u001b[49m\u001b[43mcheck_response\u001b[49m\u001b[43m(\u001b[49m\u001b[43mresponse\u001b[49m\u001b[43m)\u001b[49m\n\u001b[32m    448\u001b[39m     response[\u001b[33m\"\u001b[39m\u001b[33mvalue\u001b[39m\u001b[33m\"\u001b[39m] = \u001b[38;5;28mself\u001b[39m._unwrap_value(response.get(\u001b[33m\"\u001b[39m\u001b[33mvalue\u001b[39m\u001b[33m\"\u001b[39m, \u001b[38;5;28;01mNone\u001b[39;00m))\n\u001b[32m    449\u001b[39m     \u001b[38;5;28;01mreturn\u001b[39;00m response\n",
      "\u001b[36mFile \u001b[39m\u001b[32m/Library/Frameworks/Python.framework/Versions/3.13/lib/python3.13/site-packages/selenium/webdriver/remote/errorhandler.py:232\u001b[39m, in \u001b[36mErrorHandler.check_response\u001b[39m\u001b[34m(self, response)\u001b[39m\n\u001b[32m    230\u001b[39m         alert_text = value[\u001b[33m\"\u001b[39m\u001b[33malert\u001b[39m\u001b[33m\"\u001b[39m].get(\u001b[33m\"\u001b[39m\u001b[33mtext\u001b[39m\u001b[33m\"\u001b[39m)\n\u001b[32m    231\u001b[39m     \u001b[38;5;28;01mraise\u001b[39;00m exception_class(message, screen, stacktrace, alert_text)  \u001b[38;5;66;03m# type: ignore[call-arg]  # mypy is not smart enough here\u001b[39;00m\n\u001b[32m--> \u001b[39m\u001b[32m232\u001b[39m \u001b[38;5;28;01mraise\u001b[39;00m exception_class(message, screen, stacktrace)\n",
      "\u001b[31mNoSuchElementException\u001b[39m: Message: no such element: Unable to locate element: {\"method\":\"xpath\",\"selector\":\"//*[@id=\"__next\"]/div[1]/div[1]/div/div[2]/div/div/div[2]/button[5]\"}\n  (Session info: chrome=137.0.7151.120); For documentation on this error, please visit: https://www.selenium.dev/documentation/webdriver/troubleshooting/errors#no-such-element-exception\nStacktrace:\n0   chromedriver                        0x0000000102b49d14 cxxbridge1$str$ptr + 2735276\n1   chromedriver                        0x0000000102b41f88 cxxbridge1$str$ptr + 2703136\n2   chromedriver                        0x00000001026926f0 cxxbridge1$string$len + 90424\n3   chromedriver                        0x00000001026d99e0 cxxbridge1$string$len + 381992\n4   chromedriver                        0x000000010271b0c8 cxxbridge1$string$len + 650000\n5   chromedriver                        0x00000001026cdbe8 cxxbridge1$string$len + 333360\n6   chromedriver                        0x0000000102b0d598 cxxbridge1$str$ptr + 2487600\n7   chromedriver                        0x0000000102b10830 cxxbridge1$str$ptr + 2500552\n8   chromedriver                        0x0000000102aedc14 cxxbridge1$str$ptr + 2358188\n9   chromedriver                        0x0000000102b110b8 cxxbridge1$str$ptr + 2502736\n10  chromedriver                        0x0000000102adedec cxxbridge1$str$ptr + 2297220\n11  chromedriver                        0x0000000102b31420 cxxbridge1$str$ptr + 2634680\n12  chromedriver                        0x0000000102b315ac cxxbridge1$str$ptr + 2635076\n13  chromedriver                        0x0000000102b41bd4 cxxbridge1$str$ptr + 2702188\n14  libsystem_pthread.dylib             0x00000001a0a2ffa8 _pthread_start + 148\n15  libsystem_pthread.dylib             0x00000001a0a2ada0 thread_start + 8\n"
     ]
    }
   ],
   "source": [
    "time.sleep(2)\n",
    "cuvinte = [\"audio\", \"audio\", \"glyph\"]\n",
    "\n",
    "for cuv in cuvinte:\n",
    "     for ch in cuv:\n",
    "          browser.find_element(By.XPATH, xpath_pt(ch)).click()\n",
    "     time.sleep(2)\n",
    "     press_enter()\n"
   ]
  }
 ],
 "metadata": {
  "kernelspec": {
   "display_name": "Python 3",
   "language": "python",
   "name": "python3"
  },
  "language_info": {
   "codemirror_mode": {
    "name": "ipython",
    "version": 3
   },
   "file_extension": ".py",
   "mimetype": "text/x-python",
   "name": "python",
   "nbconvert_exporter": "python",
   "pygments_lexer": "ipython3",
   "version": "3.13.3"
  }
 },
 "nbformat": 4,
 "nbformat_minor": 5
}
