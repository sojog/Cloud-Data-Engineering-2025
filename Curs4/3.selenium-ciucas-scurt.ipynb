{
 "cells": [
  {
   "cell_type": "code",
   "execution_count": 9,
   "id": "054ac3c6",
   "metadata": {},
   "outputs": [],
   "source": [
    "from selenium import webdriver\n",
    "from selenium.webdriver.common.by import By\n",
    "import time"
   ]
  },
  {
   "cell_type": "code",
   "execution_count": 10,
   "id": "42320c03",
   "metadata": {},
   "outputs": [],
   "source": [
    "\n",
    "browser = webdriver.Chrome()\n",
    "browser.get(\"https://www.bereciucas.ro/\")\n"
   ]
  },
  {
   "cell_type": "code",
   "execution_count": 11,
   "id": "5f59ef18",
   "metadata": {},
   "outputs": [],
   "source": [
    "browser.find_element(By.ID, \"CybotCookiebotDialogBodyLevelButtonLevelOptinAllowAll\").click()"
   ]
  },
  {
   "cell_type": "code",
   "execution_count": 12,
   "id": "4f295f5c",
   "metadata": {},
   "outputs": [],
   "source": [
    "YEAR = \"2007\"\n",
    "\n",
    "for i, ch in enumerate(YEAR, start=1):\n",
    "    time.sleep(2)\n",
    "    browser.find_element(By.NAME, f\"year_{i}\").send_keys(ch)"
   ]
  },
  {
   "cell_type": "code",
   "execution_count": 8,
   "id": "57301d17",
   "metadata": {},
   "outputs": [],
   "source": [
    "browser.quit()"
   ]
  },
  {
   "cell_type": "code",
   "execution_count": null,
   "id": "57c00295",
   "metadata": {},
   "outputs": [],
   "source": []
  }
 ],
 "metadata": {
  "kernelspec": {
   "display_name": "Python 3",
   "language": "python",
   "name": "python3"
  },
  "language_info": {
   "codemirror_mode": {
    "name": "ipython",
    "version": 3
   },
   "file_extension": ".py",
   "mimetype": "text/x-python",
   "name": "python",
   "nbconvert_exporter": "python",
   "pygments_lexer": "ipython3",
   "version": "3.13.3"
  }
 },
 "nbformat": 4,
 "nbformat_minor": 5
}
