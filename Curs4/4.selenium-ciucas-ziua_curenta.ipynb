{
 "cells": [
  {
   "cell_type": "code",
   "execution_count": 30,
   "id": "054ac3c6",
   "metadata": {},
   "outputs": [],
   "source": [
    "from selenium import webdriver\n",
    "from selenium.webdriver.common.by import By\n",
    "import time\n",
    "from datetime import datetime"
   ]
  },
  {
   "cell_type": "code",
   "execution_count": 31,
   "id": "42320c03",
   "metadata": {},
   "outputs": [],
   "source": [
    "\n",
    "browser = webdriver.Chrome()\n",
    "browser.get(\"https://www.bereciucas.ro/\")\n"
   ]
  },
  {
   "cell_type": "code",
   "execution_count": 33,
   "id": "5f59ef18",
   "metadata": {},
   "outputs": [],
   "source": [
    "browser.find_element(By.ID, \"CybotCookiebotDialogBodyLevelButtonLevelOptinAllowAll\").click()"
   ]
  },
  {
   "cell_type": "code",
   "execution_count": 34,
   "id": "7936698d",
   "metadata": {},
   "outputs": [],
   "source": [
    "today = datetime.now()"
   ]
  },
  {
   "cell_type": "code",
   "execution_count": null,
   "id": "72e27634",
   "metadata": {},
   "outputs": [
    {
     "data": {
      "text/plain": [
       "2025"
      ]
     },
     "execution_count": 22,
     "metadata": {},
     "output_type": "execute_result"
    }
   ],
   "source": [
    "today.year"
   ]
  },
  {
   "cell_type": "code",
   "execution_count": null,
   "id": "01fb13f1",
   "metadata": {},
   "outputs": [
    {
     "data": {
      "text/plain": [
       "6"
      ]
     },
     "execution_count": 23,
     "metadata": {},
     "output_type": "execute_result"
    }
   ],
   "source": [
    "today.month"
   ]
  },
  {
   "cell_type": "code",
   "execution_count": null,
   "id": "bb2659da",
   "metadata": {},
   "outputs": [
    {
     "data": {
      "text/plain": [
       "20"
      ]
     },
     "execution_count": 24,
     "metadata": {},
     "output_type": "execute_result"
    }
   ],
   "source": [
    "today.day"
   ]
  },
  {
   "cell_type": "code",
   "execution_count": 38,
   "id": "5d6d1c2d",
   "metadata": {},
   "outputs": [
    {
     "data": {
      "text/plain": [
       "'6'"
      ]
     },
     "execution_count": 38,
     "metadata": {},
     "output_type": "execute_result"
    }
   ],
   "source": [
    "MONTH = str(today.month)\n",
    "MONTH"
   ]
  },
  {
   "cell_type": "code",
   "execution_count": null,
   "id": "08387937",
   "metadata": {},
   "outputs": [
    {
     "data": {
      "text/plain": [
       "'06'"
      ]
     },
     "execution_count": 26,
     "metadata": {},
     "output_type": "execute_result"
    }
   ],
   "source": [
    "MONTH = MONTH.zfill(2)\n",
    "MONTH"
   ]
  },
  {
   "cell_type": "code",
   "execution_count": 40,
   "id": "16f427b9",
   "metadata": {},
   "outputs": [
    {
     "data": {
      "text/plain": [
       "'20'"
      ]
     },
     "execution_count": 40,
     "metadata": {},
     "output_type": "execute_result"
    }
   ],
   "source": [
    "DAY = str(today.day).zfill(2)\n",
    "DAY"
   ]
  },
  {
   "cell_type": "code",
   "execution_count": 35,
   "id": "4f295f5c",
   "metadata": {},
   "outputs": [],
   "source": [
    "YEAR = str(today.year - 18)\n",
    "MONTH = str(today.month)\n",
    "\n",
    "for i, ch in enumerate(YEAR, start=1):\n",
    "    time.sleep(0.4)\n",
    "    browser.find_element(By.NAME, f\"year_{i}\").send_keys(ch)"
   ]
  },
  {
   "cell_type": "code",
   "execution_count": 37,
   "id": "57c00295",
   "metadata": {},
   "outputs": [],
   "source": [
    "browser.find_element(By.NAME, f\"month\").send_keys(MONTH)"
   ]
  },
  {
   "cell_type": "code",
   "execution_count": 41,
   "id": "093e2d80",
   "metadata": {},
   "outputs": [],
   "source": [
    "browser.find_element(By.NAME, f\"day\").send_keys(DAY)"
   ]
  },
  {
   "cell_type": "code",
   "execution_count": null,
   "id": "aceb3653",
   "metadata": {},
   "outputs": [],
   "source": []
  }
 ],
 "metadata": {
  "kernelspec": {
   "display_name": "Python 3",
   "language": "python",
   "name": "python3"
  },
  "language_info": {
   "codemirror_mode": {
    "name": "ipython",
    "version": 3
   },
   "file_extension": ".py",
   "mimetype": "text/x-python",
   "name": "python",
   "nbconvert_exporter": "python",
   "pygments_lexer": "ipython3",
   "version": "3.13.3"
  }
 },
 "nbformat": 4,
 "nbformat_minor": 5
}
