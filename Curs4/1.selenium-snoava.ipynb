{
 "cells": [
  {
   "cell_type": "code",
   "execution_count": 6,
   "id": "a5d20560",
   "metadata": {},
   "outputs": [],
   "source": [
    "from selenium import webdriver\n",
    "from selenium.webdriver.common.by import By"
   ]
  },
  {
   "cell_type": "code",
   "execution_count": 5,
   "id": "45a4f0d6",
   "metadata": {},
   "outputs": [],
   "source": [
    "URL = \"https://techy-api.vercel.app/api/text\"\n",
    "\n",
    "browser = webdriver.Chrome()\n",
    "browser.get(URL)"
   ]
  },
  {
   "cell_type": "code",
   "execution_count": 7,
   "id": "97b580de",
   "metadata": {},
   "outputs": [
    {
     "data": {
      "text/plain": [
       "'Just edit the config file for the power traffic'"
      ]
     },
     "execution_count": 7,
     "metadata": {},
     "output_type": "execute_result"
    }
   ],
   "source": [
    "browser.find_element(By.XPATH, \"/html/body\").text"
   ]
  },
  {
   "cell_type": "code",
   "execution_count": 8,
   "id": "c6ab8332",
   "metadata": {},
   "outputs": [
    {
     "data": {
      "text/plain": [
       "'Just edit the config file for the power traffic'"
      ]
     },
     "execution_count": 8,
     "metadata": {},
     "output_type": "execute_result"
    }
   ],
   "source": [
    "browser.find_element(By.TAG_NAME, \"body\").text"
   ]
  },
  {
   "cell_type": "code",
   "execution_count": 9,
   "id": "e213c77f",
   "metadata": {},
   "outputs": [
    {
     "data": {
      "text/plain": [
       "'Just edit the config file for the power traffic'"
      ]
     },
     "execution_count": 9,
     "metadata": {},
     "output_type": "execute_result"
    }
   ],
   "source": [
    "browser.find_element(By.CSS_SELECTOR, \"body\").text"
   ]
  },
  {
   "cell_type": "code",
   "execution_count": 10,
   "id": "b6979a4c",
   "metadata": {},
   "outputs": [],
   "source": [
    "browser.quit()"
   ]
  },
  {
   "cell_type": "code",
   "execution_count": null,
   "id": "0711868f",
   "metadata": {},
   "outputs": [],
   "source": []
  }
 ],
 "metadata": {
  "kernelspec": {
   "display_name": "Python 3",
   "language": "python",
   "name": "python3"
  },
  "language_info": {
   "codemirror_mode": {
    "name": "ipython",
    "version": 3
   },
   "file_extension": ".py",
   "mimetype": "text/x-python",
   "name": "python",
   "nbconvert_exporter": "python",
   "pygments_lexer": "ipython3",
   "version": "3.13.3"
  }
 },
 "nbformat": 4,
 "nbformat_minor": 5
}
