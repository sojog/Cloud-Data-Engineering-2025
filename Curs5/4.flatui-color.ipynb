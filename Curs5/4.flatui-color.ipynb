{
 "cells": [
  {
   "cell_type": "code",
   "execution_count": 14,
   "id": "0c860d3a",
   "metadata": {},
   "outputs": [],
   "source": [
    "\n",
    "pallete = \"Canadian\"\n",
    "searched_color = \"Casandora Yellow\" \n"
   ]
  },
  {
   "cell_type": "code",
   "execution_count": null,
   "id": "67c921e7",
   "metadata": {},
   "outputs": [],
   "source": [
    "from selenium import webdriver\n",
    "from selenium.webdriver.common.by import By\n",
    "import pyperclip\n",
    "\n",
    "\n",
    "browser = webdriver.Chrome()\n",
    "\n",
    "URL = \"https://flatuicolors.com/\"\n",
    "browser.get(URL)\n",
    "\n",
    "name_divs = browser.find_elements(By.CLASS_NAME, \"name\")\n",
    "len(name_divs)\n",
    "\n",
    "\n",
    "aussie_divs = [ div for div in name_divs if  pallete in div.text]\n",
    "len(aussie_divs)\n",
    "aussie_divs[0].click()\n"
   ]
  },
  {
   "cell_type": "code",
   "execution_count": 23,
   "id": "a33750a0",
   "metadata": {},
   "outputs": [
    {
     "name": "stdout",
     "output_type": "stream",
     "text": [
      "1\n",
      "#01a3a4\n"
     ]
    }
   ],
   "source": [
    "color_divs = browser.find_elements(By.CLASS_NAME, \"color\")\n",
    "len(color_divs)\n",
    "helio_divs = [div for div in color_divs if searched_color in div.find_element(By.TAG_NAME, \"span\").text.title()]\n",
    "print(len(helio_divs))\n",
    "\n",
    "helio_divs[0].click()\n",
    "print(pyperclip.paste())"
   ]
  },
  {
   "cell_type": "code",
   "execution_count": 22,
   "id": "9b767fb5",
   "metadata": {},
   "outputs": [
    {
     "name": "stdout",
     "output_type": "stream",
     "text": [
      "#feca57\n"
     ]
    }
   ],
   "source": [
    "print(pyperclip.paste())"
   ]
  }
 ],
 "metadata": {
  "kernelspec": {
   "display_name": "Python 3",
   "language": "python",
   "name": "python3"
  },
  "language_info": {
   "codemirror_mode": {
    "name": "ipython",
    "version": 3
   },
   "file_extension": ".py",
   "mimetype": "text/x-python",
   "name": "python",
   "nbconvert_exporter": "python",
   "pygments_lexer": "ipython3",
   "version": "3.13.3"
  }
 },
 "nbformat": 4,
 "nbformat_minor": 5
}
