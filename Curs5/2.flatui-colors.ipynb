{
 "cells": [
  {
   "cell_type": "code",
   "execution_count": 1,
   "id": "2fa4232b",
   "metadata": {},
   "outputs": [
    {
     "data": {
      "text/plain": [
       "14"
      ]
     },
     "execution_count": 1,
     "metadata": {},
     "output_type": "execute_result"
    }
   ],
   "source": [
    "from selenium import webdriver\n",
    "from selenium.webdriver.common.by import By\n",
    "\n",
    "browser = webdriver.Chrome()\n",
    "\n",
    "URL = \"https://flatuicolors.com/\"\n",
    "browser.get(URL)\n",
    "\n",
    "name_divs = browser.find_elements(By.CLASS_NAME, \"name\")\n",
    "len(name_divs)"
   ]
  },
  {
   "cell_type": "code",
   "execution_count": 3,
   "id": "fad15a39",
   "metadata": {},
   "outputs": [],
   "source": [
    "aussie_divs = [ div for div in name_divs if  \"Aussie\" in div.text]\n",
    "len(aussie_divs)\n",
    "aussie_divs[0].click()"
   ]
  },
  {
   "cell_type": "code",
   "execution_count": 4,
   "id": "3bf32f3c",
   "metadata": {},
   "outputs": [
    {
     "data": {
      "text/plain": [
       "20"
      ]
     },
     "execution_count": 4,
     "metadata": {},
     "output_type": "execute_result"
    }
   ],
   "source": [
    "color_divs = browser.find_elements(By.CLASS_NAME, \"color\")\n",
    "len(color_divs)"
   ]
  },
  {
   "cell_type": "code",
   "execution_count": 5,
   "id": "616c20ca",
   "metadata": {},
   "outputs": [
    {
     "data": {
      "text/plain": [
       "0"
      ]
     },
     "execution_count": 5,
     "metadata": {},
     "output_type": "execute_result"
    }
   ],
   "source": [
    "helio_divs = [div for div in color_divs if \"Heliotrope\" in div.text]\n",
    "len(helio_divs)"
   ]
  },
  {
   "cell_type": "code",
   "execution_count": 7,
   "id": "7573d51e",
   "metadata": {},
   "outputs": [
    {
     "data": {
      "text/plain": [
       "1"
      ]
     },
     "execution_count": 7,
     "metadata": {},
     "output_type": "execute_result"
    }
   ],
   "source": [
    "helio_divs = [div for div in color_divs if \"Heliotrope\" in div.find_element(By.TAG_NAME, \"span\").text.title()]\n",
    "len(helio_divs)"
   ]
  },
  {
   "cell_type": "code",
   "execution_count": 8,
   "id": "7098df78",
   "metadata": {},
   "outputs": [
    {
     "data": {
      "text/plain": [
       "1"
      ]
     },
     "execution_count": 8,
     "metadata": {},
     "output_type": "execute_result"
    }
   ],
   "source": [
    "helio_divs = [div for div in color_divs if \"Blurple\" in div.find_element(By.TAG_NAME, \"span\").text.title()]\n",
    "len(helio_divs)"
   ]
  },
  {
   "cell_type": "code",
   "execution_count": 16,
   "id": "5f81d327",
   "metadata": {},
   "outputs": [],
   "source": [
    "helio_divs[0].click()"
   ]
  },
  {
   "cell_type": "code",
   "execution_count": 11,
   "id": "5bfad4d7",
   "metadata": {},
   "outputs": [
    {
     "name": "stdout",
     "output_type": "stream",
     "text": [
      "print(pyperclip.paste())\n"
     ]
    }
   ],
   "source": [
    "import pyperclip\n",
    "print(pyperclip.paste())"
   ]
  },
  {
   "cell_type": "code",
   "execution_count": 18,
   "id": "07549bf6",
   "metadata": {},
   "outputs": [
    {
     "data": {
      "text/plain": [
       "'https://flatuicolors.com/palette/nl'"
      ]
     },
     "execution_count": 18,
     "metadata": {},
     "output_type": "execute_result"
    }
   ],
   "source": [
    "pyperclip.paste()"
   ]
  },
  {
   "cell_type": "code",
   "execution_count": null,
   "id": "9ec869b8",
   "metadata": {},
   "outputs": [],
   "source": []
  }
 ],
 "metadata": {
  "kernelspec": {
   "display_name": "Python 3",
   "language": "python",
   "name": "python3"
  },
  "language_info": {
   "codemirror_mode": {
    "name": "ipython",
    "version": 3
   },
   "file_extension": ".py",
   "mimetype": "text/x-python",
   "name": "python",
   "nbconvert_exporter": "python",
   "pygments_lexer": "ipython3",
   "version": "3.13.3"
  }
 },
 "nbformat": 4,
 "nbformat_minor": 5
}
