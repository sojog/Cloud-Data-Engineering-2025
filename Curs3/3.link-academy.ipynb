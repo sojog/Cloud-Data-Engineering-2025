{
 "cells": [
  {
   "cell_type": "code",
   "execution_count": 39,
   "id": "d2b65977",
   "metadata": {},
   "outputs": [],
   "source": [
    "from selenium import webdriver\n",
    "from selenium.webdriver.common.by import By\n",
    "import time"
   ]
  },
  {
   "cell_type": "code",
   "execution_count": 40,
   "id": "c0b05768",
   "metadata": {},
   "outputs": [],
   "source": [
    "URL = \"https://www.link-academy.com/\"\n",
    "driver = webdriver.Chrome()\n",
    "driver.get(URL)"
   ]
  },
  {
   "cell_type": "code",
   "execution_count": 41,
   "id": "d9aecc3a",
   "metadata": {},
   "outputs": [],
   "source": [
    "COOKIE_BUTTON_ID = \"politikaOK\"\n",
    "cookie_button = driver.find_element( By.ID, COOKIE_BUTTON_ID)\n",
    "cookie_button.click()\n"
   ]
  },
  {
   "cell_type": "code",
   "execution_count": 42,
   "id": "02f0e02a",
   "metadata": {},
   "outputs": [],
   "source": [
    "programe_XPATH =  '//*[@id=\"navLeft\"]/ul/li[2]/a'\n",
    "FULL_XPATH =  '/html/body/div[1]/nav/div[3]/ul/li[2]/a'"
   ]
  },
  {
   "cell_type": "code",
   "execution_count": 43,
   "id": "de52b0cc",
   "metadata": {},
   "outputs": [],
   "source": [
    "driver.find_element(By.XPATH, programe_XPATH).click()"
   ]
  },
  {
   "cell_type": "code",
   "execution_count": 46,
   "id": "765fd23e",
   "metadata": {},
   "outputs": [],
   "source": [
    "try:\n",
    "    driver.find_element(By.ID, \"zatvori\").click()\n",
    "except:\n",
    "    pass"
   ]
  },
  {
   "cell_type": "code",
   "execution_count": 47,
   "id": "55f3e054",
   "metadata": {},
   "outputs": [],
   "source": [
    "AI_PYTHON_XPATH  = '//*[@id=\"sidebarNav\"]/div/div[2]/a[1]'\n",
    "\n",
    "driver.find_element(By.XPATH, AI_PYTHON_XPATH).click()"
   ]
  },
  {
   "cell_type": "code",
   "execution_count": 49,
   "id": "0b71d1e0",
   "metadata": {},
   "outputs": [],
   "source": [
    "driver.find_element(By.XPATH,'//*[@id=\"content\"]/table[1]/tbody/tr[2]/td[3]/a').click()"
   ]
  },
  {
   "cell_type": "code",
   "execution_count": 50,
   "id": "c77be30d",
   "metadata": {},
   "outputs": [],
   "source": [
    "# driver.execute_async_script(\"window.scrollTo(0, document.body.scrollHeight);\")"
   ]
  },
  {
   "cell_type": "code",
   "execution_count": 51,
   "id": "7769c240",
   "metadata": {},
   "outputs": [],
   "source": [
    "driver.quit()"
   ]
  }
 ],
 "metadata": {
  "kernelspec": {
   "display_name": "Python 3",
   "language": "python",
   "name": "python3"
  },
  "language_info": {
   "codemirror_mode": {
    "name": "ipython",
    "version": 3
   },
   "file_extension": ".py",
   "mimetype": "text/x-python",
   "name": "python",
   "nbconvert_exporter": "python",
   "pygments_lexer": "ipython3",
   "version": "3.13.3"
  }
 },
 "nbformat": 4,
 "nbformat_minor": 5
}
