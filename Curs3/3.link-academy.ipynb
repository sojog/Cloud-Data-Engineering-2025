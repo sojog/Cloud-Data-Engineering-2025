{
 "cells": [
  {
   "cell_type": "code",
   "execution_count": 1,
   "id": "d2b65977",
   "metadata": {},
   "outputs": [],
   "source": [
    "from selenium import webdriver\n",
    "from selenium.webdriver.common.by import By\n",
    "import time"
   ]
  },
  {
   "cell_type": "code",
   "execution_count": 8,
   "id": "c0b05768",
   "metadata": {},
   "outputs": [],
   "source": [
    "URL = \"https://www.link-academy.com/\"\n",
    "driver = webdriver.Chrome()\n",
    "driver.get(URL)"
   ]
  },
  {
   "cell_type": "code",
   "execution_count": 9,
   "id": "d9aecc3a",
   "metadata": {},
   "outputs": [],
   "source": [
    "COOKIE_BUTTON_ID = \"politikaOK\"\n",
    "cookie_button = driver.find_element( By.ID, COOKIE_BUTTON_ID)\n",
    "cookie_button.click()\n"
   ]
  },
  {
   "cell_type": "code",
   "execution_count": 18,
   "id": "0ae9907d",
   "metadata": {},
   "outputs": [],
   "source": [
    "nav_bar = driver.find_element(By.CLASS_NAME, \"nav-collapse\")\n",
    "nav_bar_list_items = nav_bar.find_elements(By.TAG_NAME, \"li\")"
   ]
  },
  {
   "cell_type": "code",
   "execution_count": 22,
   "id": "0880b671",
   "metadata": {},
   "outputs": [],
   "source": [
    "link_programe = nav_bar_list_items[1].find_element(By.TAG_NAME, \"a\")"
   ]
  },
  {
   "cell_type": "code",
   "execution_count": 24,
   "id": "dd18cebb",
   "metadata": {},
   "outputs": [
    {
     "data": {
      "text/plain": [
       "'https://www.link-academy.com/de-ce-sa-alegeti-link-academy'"
      ]
     },
     "execution_count": 24,
     "metadata": {},
     "output_type": "execute_result"
    }
   ],
   "source": [
    "link_programe.get_attribute(\"href\")"
   ]
  },
  {
   "cell_type": "code",
   "execution_count": 27,
   "id": "02f0e02a",
   "metadata": {},
   "outputs": [],
   "source": [
    "programe_XPATH =  '//*[@id=\"navLeft\"]/ul/li[2]/a'\n",
    "FULL_XPATH =  '/html/body/div[1]/nav/div[3]/ul/li[2]/a'"
   ]
  },
  {
   "cell_type": "code",
   "execution_count": 29,
   "id": "de52b0cc",
   "metadata": {},
   "outputs": [],
   "source": [
    "driver.find_element(By.XPATH, programe_XPATH).click()"
   ]
  },
  {
   "cell_type": "code",
   "execution_count": 30,
   "id": "765fd23e",
   "metadata": {},
   "outputs": [],
   "source": [
    "driver.find_element(By.ID, \"zatvori\").click()"
   ]
  }
 ],
 "metadata": {
  "kernelspec": {
   "display_name": "Python 3",
   "language": "python",
   "name": "python3"
  },
  "language_info": {
   "codemirror_mode": {
    "name": "ipython",
    "version": 3
   },
   "file_extension": ".py",
   "mimetype": "text/x-python",
   "name": "python",
   "nbconvert_exporter": "python",
   "pygments_lexer": "ipython3",
   "version": "3.13.3"
  }
 },
 "nbformat": 4,
 "nbformat_minor": 5
}
