{
 "cells": [
  {
   "cell_type": "code",
   "execution_count": 23,
   "id": "9610caf7",
   "metadata": {},
   "outputs": [],
   "source": [
    "from selenium import webdriver\n",
    "from selenium.webdriver.common.by import By\n",
    "import time"
   ]
  },
  {
   "cell_type": "code",
   "execution_count": 24,
   "id": "905a853f",
   "metadata": {},
   "outputs": [],
   "source": [
    "URL = \"https://olx.ro\""
   ]
  },
  {
   "cell_type": "code",
   "execution_count": 25,
   "id": "ae7a0c1a",
   "metadata": {},
   "outputs": [],
   "source": [
    "\n",
    "driver = webdriver.Chrome()\n",
    "driver.get(URL)"
   ]
  },
  {
   "cell_type": "code",
   "execution_count": null,
   "id": "3d8e2cec",
   "metadata": {},
   "outputs": [],
   "source": [
    "COOKIE_BUTTON_ID = \"onetrust-accept-btn-handler\"\n",
    "\n",
    "cookie_button = driver.find_element( By.ID, COOKIE_BUTTON_ID)\n",
    "cookie_button.click()\n",
    "\n",
    "\n"
   ]
  },
  {
   "cell_type": "code",
   "execution_count": 27,
   "id": "5c60c691",
   "metadata": {},
   "outputs": [],
   "source": [
    "SEARCH_ID = \"search\"\n",
    "\n",
    "input_field = driver.find_element(By.ID, SEARCH_ID)\n",
    "input_field.send_keys(\"Sosete ieftine\")"
   ]
  },
  {
   "cell_type": "code",
   "execution_count": 28,
   "id": "b305b100",
   "metadata": {},
   "outputs": [],
   "source": [
    "SEARCH_BUTTON_CLASS = \"css-13ywmov\"\n",
    "\n",
    "\n",
    "search_button = driver.find_elements(By.CLASS_NAME, SEARCH_BUTTON_CLASS)[0]\n",
    "search_button.click()"
   ]
  },
  {
   "cell_type": "code",
   "execution_count": null,
   "id": "04d925e7",
   "metadata": {},
   "outputs": [
    {
     "data": {
      "text/plain": [
       "20"
      ]
     },
     "execution_count": 30,
     "metadata": {},
     "output_type": "execute_result"
    }
   ],
   "source": [
    "ITEM_LINK_CLASS = \"css-1tqlkj0\"\n",
    "\n",
    "\n",
    "result_items =  driver.find_elements(By.CLASS_NAME, ITEM_LINK_CLASS)\n",
    "len(result_items)\n",
    "\n",
    "# document.getElementsByClassName(\"css-1tqlkj0\")"
   ]
  },
  {
   "cell_type": "code",
   "execution_count": 54,
   "id": "c10897f6",
   "metadata": {},
   "outputs": [],
   "source": [
    "# links = list([el.get_attribute('href') for el in result_items])\n",
    "# len(links)"
   ]
  },
  {
   "cell_type": "code",
   "execution_count": 55,
   "id": "6b11a7b3",
   "metadata": {},
   "outputs": [],
   "source": [
    "# links[-1]"
   ]
  },
  {
   "cell_type": "code",
   "execution_count": 59,
   "id": "36c59c1d",
   "metadata": {},
   "outputs": [],
   "source": [
    "driver.get(\"https://www.olx.ro/d/oferta/proprietar-brancoveanu-metrou-apart-nou-lux-centrala-parcare-IDjv8RL.html\")"
   ]
  },
  {
   "cell_type": "code",
   "execution_count": 61,
   "id": "cefac73d",
   "metadata": {},
   "outputs": [],
   "source": [
    "button = driver.find_element(By.CLASS_NAME, \"css-aqnawq\")\n",
    "button.click()"
   ]
  },
  {
   "cell_type": "code",
   "execution_count": 62,
   "id": "0d3888e4",
   "metadata": {},
   "outputs": [
    {
     "data": {
      "text/plain": [
       "'073 149 0600'"
      ]
     },
     "execution_count": 62,
     "metadata": {},
     "output_type": "execute_result"
    }
   ],
   "source": [
    "driver.find_element(By.CLASS_NAME, \"css-1478ixo\").text"
   ]
  },
  {
   "cell_type": "code",
   "execution_count": 32,
   "id": "e070d2e9",
   "metadata": {},
   "outputs": [
    {
     "name": "stdout",
     "output_type": "stream",
     "text": [
      "https://www.olx.ro/d/oferta/sosete-de-dama-ieftine-IDje2kr.html\n",
      "https://www.olx.ro/d/oferta/sosete-de-dama-ieftine-IDje2kr.html\n",
      "https://www.olx.ro/d/oferta/sosete-premium-nike-IDiXKVf.html\n",
      "https://www.olx.ro/d/oferta/sosete-premium-nike-IDiXKVf.html\n",
      "https://www.olx.ro/d/oferta/tsg-sosete-tsg-trailz-dh-2-0-large-mtb-pantalon-lung-enduro-dh-IDfMHRH.html\n",
      "https://www.olx.ro/d/oferta/tsg-sosete-tsg-trailz-dh-2-0-large-mtb-pantalon-lung-enduro-dh-IDfMHRH.html\n",
      "https://www.olx.ro/d/oferta/cd-uri-audio-originale-romanesti-si-straine-IDbzG0M.html\n",
      "https://www.olx.ro/d/oferta/cd-uri-audio-originale-romanesti-si-straine-IDbzG0M.html\n",
      "https://www.olx.ro/d/oferta/lot-2-perechi-sosete-calitate-superioara-groase-bumbac-ambisex-IDin9Vr.html\n",
      "https://www.olx.ro/d/oferta/lot-2-perechi-sosete-calitate-superioara-groase-bumbac-ambisex-IDin9Vr.html\n",
      "https://www.olx.ro/d/oferta/rsp-tricou-mtb-large-IDfRfWr.html\n",
      "https://www.olx.ro/d/oferta/rsp-tricou-mtb-large-IDfRfWr.html\n",
      "https://www.olx.ro/d/oferta/set-unisex-basic-bebelusi-6-9-luni-bumbac-plin-next-nou-IDjfODW.html\n",
      "https://www.olx.ro/d/oferta/set-unisex-basic-bebelusi-6-9-luni-bumbac-plin-next-nou-IDjfODW.html\n",
      "https://www.olx.ro/d/oferta/ghete-piele-bocanci-barbati-lumberjack-stare-foarte-buna-m-42-1-2-43-IDhrEFY.html\n",
      "https://www.olx.ro/d/oferta/ghete-piele-bocanci-barbati-lumberjack-stare-foarte-buna-m-42-1-2-43-IDhrEFY.html\n",
      "https://www.olx.ro/d/oferta/vand-papuci-guess-originali-IDjsWln.html\n",
      "https://www.olx.ro/d/oferta/vand-papuci-guess-originali-IDjsWln.html\n",
      "https://www.olx.ro/d/oferta/papuci-barbati-de-interior-din-piele-de-bivolita-si-lana-merinos-IDgUfte.html\n",
      "https://www.olx.ro/d/oferta/papuci-barbati-de-interior-din-piele-de-bivolita-si-lana-merinos-IDgUfte.html\n"
     ]
    }
   ],
   "source": [
    "for el in result_items:\n",
    "    print(el.get_attribute('href'))"
   ]
  },
  {
   "cell_type": "code",
   "execution_count": 15,
   "id": "55b91848",
   "metadata": {},
   "outputs": [],
   "source": [
    "driver.quit()"
   ]
  }
 ],
 "metadata": {
  "kernelspec": {
   "display_name": "Python 3",
   "language": "python",
   "name": "python3"
  },
  "language_info": {
   "codemirror_mode": {
    "name": "ipython",
    "version": 3
   },
   "file_extension": ".py",
   "mimetype": "text/x-python",
   "name": "python",
   "nbconvert_exporter": "python",
   "pygments_lexer": "ipython3",
   "version": "3.13.3"
  }
 },
 "nbformat": 4,
 "nbformat_minor": 5
}
